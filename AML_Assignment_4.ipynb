{
  "nbformat": 4,
  "nbformat_minor": 0,
  "metadata": {
    "colab": {
      "provenance": [],
      "gpuClass": "premium"
    },
    "kernelspec": {
      "name": "python3",
      "display_name": "Python 3"
    },
    "language_info": {
      "name": "python"
    },
    "accelerator": "GPU",
    "gpuClass": "premium"
  },
  "cells": [
    {
      "cell_type": "markdown",
      "metadata": {
        "id": "view-in-github"
      },
      "source": [
        "<a href=\"https://colab.research.google.com/github/Chaitanyareddynv/Cnarredd_64061/blob/main/assignment_4.ipynb\" target=\"_parent\"><img src=\"https://colab.research.google.com/assets/colab-badge.svg\" alt=\"Open In Colab\"/></a>"
      ]
    },
    {
      "cell_type": "markdown",
      "source": [
        "**Obtaining the data download**\n",
        "\n"
      ],
      "metadata": {
        "id": "SfEf_M_LmW-i"
      }
    },
    {
      "cell_type": "code",
      "source": [
        "!curl -O https://ai.stanford.edu/~amaas/data/sentiment/aclImdb_v1.tar.gz\n",
        "!tar -xf aclImdb_v1.tar.gz\n",
        "!rm -r aclImdb/train/unsup"
      ],
      "metadata": {
        "colab": {
          "base_uri": "https://localhost:8080/"
        },
        "id": "OK_YTOXxSkYp",
        "outputId": "8c7faa58-dd77-4af1-f985-6d576b4002c7"
      },
      "execution_count": 1,
      "outputs": [
        {
          "output_type": "stream",
          "name": "stdout",
          "text": [
            "  % Total    % Received % Xferd  Average Speed   Time    Time     Time  Current\n",
            "                                 Dload  Upload   Total   Spent    Left  Speed\n",
            "100 80.2M  100 80.2M    0     0  38.2M      0  0:00:02  0:00:02 --:--:-- 38.2M\n"
          ]
        }
      ]
    },
    {
      "cell_type": "markdown",
      "source": [
        "Getting the data ready"
      ],
      "metadata": {
        "id": "FxFa4ubQmcPT"
      }
    },
    {
      "cell_type": "code",
      "source": [
        "import os, pathlib, shutil, random\n",
        "from tensorflow import keras\n",
        "batch_size = 32\n",
        "base_dir7= pathlib.Path(\"/content/aclImdb\")\n",
        "val_dir7 = base_dir7/ \"val\"\n",
        "train_dir7 = base_dir7 / \"train\"\n",
        "for category in (\"neg\", \"pos\"):\n",
        "    os.makedirs(val_dir7 / category, exist_ok=True )\n",
        "\n",
        "    files = os.listdir(train_dir7 / category)\n",
        "    random.Random(1337).shuffle(files)\n",
        "    num_val_samples = int(0.2 * len(files))\n",
        "    val_files = files[-num_val_samples:]\n",
        "    for fname in val_files:\n",
        "        shutil.move(train_dir7 / category / fname,\n",
        "                    val_dir7 / category / fname)\n",
        "\n",
        "train_ds = keras.utils.text_dataset_from_directory(\n",
        "    \"aclImdb/train\", batch_size=batch_size\n",
        ").take(150)\n",
        "\n",
        "val_ds = keras.utils.text_dataset_from_directory(\n",
        "    \"/content/aclImdb/val\", batch_size=batch_size\n",
        ")\n",
        "test_ds = keras.utils.text_dataset_from_directory(\n",
        "    \"aclImdb/test\", batch_size=batch_size\n",
        ")\n",
        "text_only_train_ds = train_ds.map(lambda x, y: x)\n"
      ],
      "metadata": {
        "id": "HCTPULw4DkWz",
        "colab": {
          "base_uri": "https://localhost:8080/"
        },
        "outputId": "3f644636-dbaf-45bd-e7ad-8e7291b841d1"
      },
      "execution_count": 2,
      "outputs": [
        {
          "output_type": "stream",
          "name": "stdout",
          "text": [
            "Found 20000 files belonging to 2 classes.\n",
            "Found 5000 files belonging to 2 classes.\n",
            "Found 25000 files belonging to 2 classes.\n"
          ]
        }
      ]
    },
    {
      "cell_type": "markdown",
      "source": [
        "Setting up datasets for integer sequences"
      ],
      "metadata": {
        "id": "08v9H-1dmf2d"
      }
    },
    {
      "cell_type": "code",
      "source": [
        "from tensorflow.keras import layers\n",
        "\n",
        "max_length = 150\n",
        "max_tokens = 20000\n",
        "text_vectorization = layers.TextVectorization(\n",
        "    max_tokens=max_tokens,\n",
        "    output_mode=\"int\",\n",
        "    output_sequence_length=max_length,\n",
        ")\n",
        "text_vectorization.adapt(text_only_train_ds)\n",
        "\n",
        "int_train_ds = train_ds.map(\n",
        "    lambda x, y: (text_vectorization(x), y),\n",
        "    num_parallel_calls=4)\n",
        "int_val_ds = val_ds.map(\n",
        "    lambda x, y: (text_vectorization(x), y),\n",
        "    num_parallel_calls=4)\n",
        "int_test_ds = test_ds.map(\n",
        "    lambda x, y: (text_vectorization(x), y),\n",
        "    num_parallel_calls=4)"
      ],
      "metadata": {
        "id": "Qwdim3LtDkh_"
      },
      "execution_count": 3,
      "outputs": []
    },
    {
      "cell_type": "markdown",
      "source": [
        "**a sequence model constructed using vector sequences with one-hot encoding**"
      ],
      "metadata": {
        "id": "UeIC--rVmkNw"
      }
    },
    {
      "cell_type": "code",
      "source": [
        "import tensorflow as tf\n",
        "inputs = keras.Input(shape=(None,), dtype=\"int64\")\n",
        "embedded = tf.one_hot(inputs, depth=max_tokens)\n",
        "x = layers.Bidirectional(layers.LSTM(32))(embedded)\n",
        "x = layers.Dropout(0.5)(x)\n",
        "outputs = layers.Dense(1, activation=\"sigmoid\")(x)\n",
        "model = keras.Model(inputs, outputs)\n",
        "model.compile(optimizer=\"rmsprop\",\n",
        "              loss=\"binary_crossentropy\",\n",
        "              metrics=[\"accuracy\"])\n",
        "model.summary()"
      ],
      "metadata": {
        "id": "xHPKcp4TDkqm",
        "colab": {
          "base_uri": "https://localhost:8080/"
        },
        "outputId": "5e00d782-29da-428a-80d8-a8b3f59945d1"
      },
      "execution_count": 4,
      "outputs": [
        {
          "output_type": "stream",
          "name": "stdout",
          "text": [
            "Model: \"model\"\n",
            "_________________________________________________________________\n",
            " Layer (type)                Output Shape              Param #   \n",
            "=================================================================\n",
            " input_1 (InputLayer)        [(None, None)]            0         \n",
            "                                                                 \n",
            " tf.one_hot (TFOpLambda)     (None, None, 20000)       0         \n",
            "                                                                 \n",
            " bidirectional (Bidirection  (None, 64)                5128448   \n",
            " al)                                                             \n",
            "                                                                 \n",
            " dropout (Dropout)           (None, 64)                0         \n",
            "                                                                 \n",
            " dense (Dense)               (None, 1)                 65        \n",
            "                                                                 \n",
            "=================================================================\n",
            "Total params: 5128513 (19.56 MB)\n",
            "Trainable params: 5128513 (19.56 MB)\n",
            "Non-trainable params: 0 (0.00 Byte)\n",
            "_________________________________________________________________\n"
          ]
        }
      ]
    },
    {
      "cell_type": "markdown",
      "source": [
        "Developing a basic sequence model initially"
      ],
      "metadata": {
        "id": "pGMmF45lmr2m"
      }
    },
    {
      "cell_type": "code",
      "source": [
        "callbacks = [\n",
        "    keras.callbacks.ModelCheckpoint(\"one_hot_bidir_lstm.x\",\n",
        "                                    save_best_only=True)\n",
        "]\n",
        "model.fit(int_train_ds, validation_data=int_val_ds, epochs=10, callbacks=callbacks)\n",
        "model = keras.models.load_model(\"one_hot_bidir_lstm.x\")\n",
        "print(f\"Test acc: {model.evaluate(int_test_ds)[1]:.3f}\")"
      ],
      "metadata": {
        "id": "haVNKQlBDkuv",
        "colab": {
          "base_uri": "https://localhost:8080/"
        },
        "outputId": "06cf629d-38ef-4b20-fcf8-7599ce45712a"
      },
      "execution_count": 5,
      "outputs": [
        {
          "output_type": "stream",
          "name": "stdout",
          "text": [
            "Epoch 1/10\n",
            "150/150 [==============================] - 29s 161ms/step - loss: 0.6854 - accuracy: 0.5479 - val_loss: 0.6423 - val_accuracy: 0.6208\n",
            "Epoch 2/10\n",
            "150/150 [==============================] - 24s 161ms/step - loss: 0.5472 - accuracy: 0.7500 - val_loss: 0.5052 - val_accuracy: 0.7658\n",
            "Epoch 3/10\n",
            "150/150 [==============================] - 23s 153ms/step - loss: 0.4048 - accuracy: 0.8496 - val_loss: 0.4951 - val_accuracy: 0.7568\n",
            "Epoch 4/10\n",
            "150/150 [==============================] - 24s 159ms/step - loss: 0.3155 - accuracy: 0.8942 - val_loss: 0.4294 - val_accuracy: 0.8196\n",
            "Epoch 5/10\n",
            "150/150 [==============================] - 14s 95ms/step - loss: 0.2452 - accuracy: 0.9208 - val_loss: 0.4697 - val_accuracy: 0.7964\n",
            "Epoch 6/10\n",
            "150/150 [==============================] - 20s 132ms/step - loss: 0.1890 - accuracy: 0.9425 - val_loss: 0.4864 - val_accuracy: 0.8252\n",
            "Epoch 7/10\n",
            "150/150 [==============================] - 24s 163ms/step - loss: 0.1452 - accuracy: 0.9596 - val_loss: 0.4186 - val_accuracy: 0.8078\n",
            "Epoch 8/10\n",
            "150/150 [==============================] - 14s 96ms/step - loss: 0.1207 - accuracy: 0.9698 - val_loss: 0.4756 - val_accuracy: 0.7790\n",
            "Epoch 9/10\n",
            "150/150 [==============================] - 14s 96ms/step - loss: 0.0868 - accuracy: 0.9758 - val_loss: 0.6145 - val_accuracy: 0.7872\n",
            "Epoch 10/10\n",
            "150/150 [==============================] - 15s 97ms/step - loss: 0.0748 - accuracy: 0.9800 - val_loss: 0.4711 - val_accuracy: 0.8042\n",
            "782/782 [==============================] - 27s 34ms/step - loss: 0.4341 - accuracy: 0.7921\n",
            "Test acc: 0.792\n"
          ]
        }
      ]
    },
    {
      "cell_type": "markdown",
      "source": [
        "**Word embedding learning using the Embedding layer**\n",
        "\n",
        "Bringing up the Embedding Layer"
      ],
      "metadata": {
        "id": "5PkSSfcHmtTS"
      }
    },
    {
      "cell_type": "code",
      "source": [
        "embedding_layer = layers.Embedding(input_dim=max_tokens, output_dim=256)"
      ],
      "metadata": {
        "id": "gwqOwLSKDkyH"
      },
      "execution_count": 6,
      "outputs": []
    },
    {
      "cell_type": "markdown",
      "source": [
        "Embedding layer model that was trained from scratch"
      ],
      "metadata": {
        "id": "BwlrpDgxm876"
      }
    },
    {
      "cell_type": "code",
      "source": [
        "inputs = keras.Input(shape=(None,), dtype=\"int64\")\n",
        "embedded = layers.Embedding(input_dim=max_tokens, output_dim=256)(inputs)\n",
        "x = layers.Bidirectional(layers.LSTM(32))(embedded)\n",
        "x = layers.Dropout(0.5)(x)\n",
        "outputs = layers.Dense(1, activation=\"sigmoid\")(x)\n",
        "model = keras.Model(inputs, outputs)\n",
        "model.compile(optimizer=\"rmsprop\",\n",
        "              loss=\"binary_crossentropy\",\n",
        "              metrics=[\"accuracy\"])\n",
        "model.summary()\n",
        "\n",
        "callbacks = [\n",
        "    keras.callbacks.ModelCheckpoint(\"embeddings_bidir_gru.x\",\n",
        "                                    save_best_only=True)\n",
        "]\n",
        "model.fit(int_train_ds, validation_data=int_val_ds, epochs=10, callbacks=callbacks)\n",
        "model = keras.models.load_model(\"embeddings_bidir_gru.x\")\n",
        "print(f\"Test acc: {model.evaluate(int_test_ds)[1]:.3f}\")"
      ],
      "metadata": {
        "id": "terl2LwbDky9",
        "colab": {
          "base_uri": "https://localhost:8080/"
        },
        "outputId": "ce9a376b-4dc0-4506-df5d-e75663da661a"
      },
      "execution_count": 8,
      "outputs": [
        {
          "output_type": "stream",
          "name": "stdout",
          "text": [
            "Model: \"model_2\"\n",
            "_________________________________________________________________\n",
            " Layer (type)                Output Shape              Param #   \n",
            "=================================================================\n",
            " input_3 (InputLayer)        [(None, None)]            0         \n",
            "                                                                 \n",
            " embedding_2 (Embedding)     (None, None, 256)         5120000   \n",
            "                                                                 \n",
            " bidirectional_2 (Bidirecti  (None, 64)                73984     \n",
            " onal)                                                           \n",
            "                                                                 \n",
            " dropout_2 (Dropout)         (None, 64)                0         \n",
            "                                                                 \n",
            " dense_2 (Dense)             (None, 1)                 65        \n",
            "                                                                 \n",
            "=================================================================\n",
            "Total params: 5194049 (19.81 MB)\n",
            "Trainable params: 5194049 (19.81 MB)\n",
            "Non-trainable params: 0 (0.00 Byte)\n",
            "_________________________________________________________________\n",
            "Epoch 1/10\n",
            "150/150 [==============================] - 25s 143ms/step - loss: 0.6848 - accuracy: 0.5450 - val_loss: 0.6196 - val_accuracy: 0.6636\n",
            "Epoch 2/10\n",
            "150/150 [==============================] - 18s 119ms/step - loss: 0.5377 - accuracy: 0.7423 - val_loss: 0.4597 - val_accuracy: 0.7930\n",
            "Epoch 3/10\n",
            "150/150 [==============================] - 16s 103ms/step - loss: 0.3728 - accuracy: 0.8446 - val_loss: 0.4235 - val_accuracy: 0.8064\n",
            "Epoch 4/10\n",
            "150/150 [==============================] - 6s 42ms/step - loss: 0.2570 - accuracy: 0.9062 - val_loss: 0.4321 - val_accuracy: 0.8014\n",
            "Epoch 5/10\n",
            "150/150 [==============================] - 4s 28ms/step - loss: 0.1782 - accuracy: 0.9365 - val_loss: 0.5355 - val_accuracy: 0.7854\n",
            "Epoch 6/10\n",
            "150/150 [==============================] - 4s 28ms/step - loss: 0.1293 - accuracy: 0.9567 - val_loss: 0.5759 - val_accuracy: 0.8070\n",
            "Epoch 7/10\n",
            "150/150 [==============================] - 5s 30ms/step - loss: 0.0912 - accuracy: 0.9698 - val_loss: 0.9430 - val_accuracy: 0.7568\n",
            "Epoch 8/10\n",
            "150/150 [==============================] - 4s 25ms/step - loss: 0.0623 - accuracy: 0.9781 - val_loss: 0.5611 - val_accuracy: 0.8058\n",
            "Epoch 9/10\n",
            "150/150 [==============================] - 5s 32ms/step - loss: 0.0481 - accuracy: 0.9856 - val_loss: 0.6148 - val_accuracy: 0.7808\n",
            "Epoch 10/10\n",
            "150/150 [==============================] - 4s 27ms/step - loss: 0.0410 - accuracy: 0.9871 - val_loss: 0.5881 - val_accuracy: 0.7980\n",
            "782/782 [==============================] - 8s 9ms/step - loss: 0.4323 - accuracy: 0.8021\n",
            "Test acc: 0.802\n"
          ]
        }
      ]
    },
    {
      "cell_type": "markdown",
      "source": [
        "Comprehending masking and padding\n",
        "\n",
        "Utilising an Embedding layer with masking turned on"
      ],
      "metadata": {
        "id": "3MP9fVyBnBYJ"
      }
    },
    {
      "cell_type": "code",
      "source": [
        "inputs = keras.Input(shape=(None,), dtype=\"int64\")\n",
        "embedded = layers.Embedding(\n",
        "    input_dim=max_tokens, output_dim=256, mask_zero=True)(inputs)\n",
        "x = layers.Bidirectional(layers.LSTM(32))(embedded)\n",
        "x = layers.Dropout(0.5)(x)\n",
        "outputs = layers.Dense(1, activation=\"sigmoid\")(x)\n",
        "model = keras.Model(inputs, outputs)\n",
        "model.compile(optimizer=\"rmsprop\",\n",
        "              loss=\"binary_crossentropy\",\n",
        "              metrics=[\"accuracy\"])\n",
        "model.summary()\n",
        "\n",
        "callbacks = [\n",
        "    keras.callbacks.ModelCheckpoint(\"embeddings_bidir_gru_with_masking.x\",\n",
        "                                    save_best_only=True)\n",
        "]\n",
        "model.fit(int_train_ds, validation_data=int_val_ds, epochs=10, callbacks=callbacks)\n",
        "model = keras.models.load_model(\"embeddings_bidir_gru_with_masking.x\")\n",
        "print(f\"Test acc: {model.evaluate(int_test_ds)[1]:.3f}\")"
      ],
      "metadata": {
        "id": "IRyFMQ36Dk2I",
        "colab": {
          "base_uri": "https://localhost:8080/"
        },
        "outputId": "2bea5dbc-78b2-4723-cc29-67dc4e5f44c9"
      },
      "execution_count": 7,
      "outputs": [
        {
          "output_type": "stream",
          "name": "stdout",
          "text": [
            "Model: \"model_1\"\n",
            "_________________________________________________________________\n",
            " Layer (type)                Output Shape              Param #   \n",
            "=================================================================\n",
            " input_2 (InputLayer)        [(None, None)]            0         \n",
            "                                                                 \n",
            " embedding_1 (Embedding)     (None, None, 256)         5120000   \n",
            "                                                                 \n",
            " bidirectional_1 (Bidirecti  (None, 64)                73984     \n",
            " onal)                                                           \n",
            "                                                                 \n",
            " dropout_1 (Dropout)         (None, 64)                0         \n",
            "                                                                 \n",
            " dense_1 (Dense)             (None, 1)                 65        \n",
            "                                                                 \n",
            "=================================================================\n",
            "Total params: 5194049 (19.81 MB)\n",
            "Trainable params: 5194049 (19.81 MB)\n",
            "Non-trainable params: 0 (0.00 Byte)\n",
            "_________________________________________________________________\n",
            "Epoch 1/10\n",
            "150/150 [==============================] - 39s 210ms/step - loss: 0.6565 - accuracy: 0.5956 - val_loss: 0.5341 - val_accuracy: 0.7412\n",
            "Epoch 2/10\n",
            "150/150 [==============================] - 25s 167ms/step - loss: 0.4512 - accuracy: 0.7954 - val_loss: 0.4142 - val_accuracy: 0.8174\n",
            "Epoch 3/10\n",
            "150/150 [==============================] - 7s 44ms/step - loss: 0.3005 - accuracy: 0.8850 - val_loss: 0.4447 - val_accuracy: 0.8066\n",
            "Epoch 4/10\n",
            "150/150 [==============================] - 6s 43ms/step - loss: 0.1888 - accuracy: 0.9348 - val_loss: 0.4642 - val_accuracy: 0.8206\n",
            "Epoch 5/10\n",
            "150/150 [==============================] - 6s 37ms/step - loss: 0.1262 - accuracy: 0.9588 - val_loss: 0.7580 - val_accuracy: 0.7274\n",
            "Epoch 6/10\n",
            "150/150 [==============================] - 5s 32ms/step - loss: 0.0792 - accuracy: 0.9731 - val_loss: 0.6561 - val_accuracy: 0.7646\n",
            "Epoch 7/10\n",
            "150/150 [==============================] - 5s 31ms/step - loss: 0.0507 - accuracy: 0.9821 - val_loss: 0.6363 - val_accuracy: 0.8006\n",
            "Epoch 8/10\n",
            "150/150 [==============================] - 7s 45ms/step - loss: 0.0429 - accuracy: 0.9875 - val_loss: 0.7272 - val_accuracy: 0.8030\n",
            "Epoch 9/10\n",
            "150/150 [==============================] - 8s 50ms/step - loss: 0.0337 - accuracy: 0.9892 - val_loss: 0.7450 - val_accuracy: 0.8078\n",
            "Epoch 10/10\n",
            "150/150 [==============================] - 4s 29ms/step - loss: 0.0258 - accuracy: 0.9923 - val_loss: 1.0893 - val_accuracy: 0.7488\n",
            "782/782 [==============================] - 11s 11ms/step - loss: 0.4215 - accuracy: 0.8126\n",
            "Test acc: 0.813\n"
          ]
        }
      ]
    },
    {
      "cell_type": "markdown",
      "source": [
        "***Pretrained word embeddings are used***"
      ],
      "metadata": {
        "id": "o86_AagPnInn"
      }
    },
    {
      "cell_type": "code",
      "source": [
        "!wget http://nlp.stanford.edu/data/glove.6B.zip\n",
        "!unzip -q glove.6B.zip"
      ],
      "metadata": {
        "id": "-mN0wzxSDk51",
        "colab": {
          "base_uri": "https://localhost:8080/"
        },
        "outputId": "d524a4ea-f21d-41b4-e994-c6058d94f1e0"
      },
      "execution_count": 9,
      "outputs": [
        {
          "output_type": "stream",
          "name": "stdout",
          "text": [
            "--2024-04-19 03:20:30--  http://nlp.stanford.edu/data/glove.6B.zip\n",
            "Resolving nlp.stanford.edu (nlp.stanford.edu)... 171.64.67.140\n",
            "Connecting to nlp.stanford.edu (nlp.stanford.edu)|171.64.67.140|:80... connected.\n",
            "HTTP request sent, awaiting response... 302 Found\n",
            "Location: https://nlp.stanford.edu/data/glove.6B.zip [following]\n",
            "--2024-04-19 03:20:30--  https://nlp.stanford.edu/data/glove.6B.zip\n",
            "Connecting to nlp.stanford.edu (nlp.stanford.edu)|171.64.67.140|:443... connected.\n",
            "HTTP request sent, awaiting response... 301 Moved Permanently\n",
            "Location: https://downloads.cs.stanford.edu/nlp/data/glove.6B.zip [following]\n",
            "--2024-04-19 03:20:30--  https://downloads.cs.stanford.edu/nlp/data/glove.6B.zip\n",
            "Resolving downloads.cs.stanford.edu (downloads.cs.stanford.edu)... 171.64.64.22\n",
            "Connecting to downloads.cs.stanford.edu (downloads.cs.stanford.edu)|171.64.64.22|:443... connected.\n",
            "HTTP request sent, awaiting response... 200 OK\n",
            "Length: 862182613 (822M) [application/zip]\n",
            "Saving to: ‘glove.6B.zip’\n",
            "\n",
            "glove.6B.zip        100%[===================>] 822.24M  5.01MB/s    in 2m 39s  \n",
            "\n",
            "2024-04-19 03:23:09 (5.17 MB/s) - ‘glove.6B.zip’ saved [862182613/862182613]\n",
            "\n"
          ]
        }
      ]
    },
    {
      "cell_type": "markdown",
      "source": [
        "interpreting the word-embeddings file for GloVe"
      ],
      "metadata": {
        "id": "X835rtwDnk6Z"
      }
    },
    {
      "cell_type": "code",
      "source": [
        "import numpy as np\n",
        "path_to_glove_file = \"glove.6B.100d.txt\"\n",
        "\n",
        "embeddings_index = {}\n",
        "with open(path_to_glove_file) as f:\n",
        "    for line in f:\n",
        "        word, coefs = line.split(maxsplit=1)\n",
        "        coefs = np.fromstring(coefs, \"f\", sep=\" \")\n",
        "        embeddings_index[word] = coefs\n",
        "\n",
        "print(f\"Found {len(embeddings_index)} word vectors.\")"
      ],
      "metadata": {
        "id": "MOLlubx2Dk_7",
        "colab": {
          "base_uri": "https://localhost:8080/"
        },
        "outputId": "95ec5ed7-6e98-452c-f36a-23a25f323ce0"
      },
      "execution_count": 10,
      "outputs": [
        {
          "output_type": "stream",
          "name": "stdout",
          "text": [
            "Found 400000 word vectors.\n"
          ]
        }
      ]
    },
    {
      "cell_type": "markdown",
      "source": [
        "Setting up the matrix for GloVe word embeddings"
      ],
      "metadata": {
        "id": "RRyuVIv_nofQ"
      }
    },
    {
      "cell_type": "code",
      "source": [
        "embedding_dim = 100\n",
        "\n",
        "vocabulary = text_vectorization.get_vocabulary()\n",
        "word_index = dict(zip(vocabulary, range(len(vocabulary))))\n",
        "\n",
        "embedding_matrix = np.zeros((max_tokens, embedding_dim))\n",
        "for word, i in word_index.items():\n",
        "    if i < max_tokens:\n",
        "        embedding_vector = embeddings_index.get(word)\n",
        "    if embedding_vector is not None:\n",
        "        embedding_matrix[i] = embedding_vector"
      ],
      "metadata": {
        "id": "qiz6_gW3EaO0"
      },
      "execution_count": 11,
      "outputs": []
    },
    {
      "cell_type": "code",
      "source": [
        "embedding_layer = layers.Embedding(\n",
        "    max_tokens,\n",
        "    embedding_dim,\n",
        "    embeddings_initializer=keras.initializers.Constant(embedding_matrix),\n",
        "    trainable=False,\n",
        "    mask_zero=True,\n",
        ")"
      ],
      "metadata": {
        "id": "XvhY89MEEaVf"
      },
      "execution_count": 12,
      "outputs": []
    },
    {
      "cell_type": "markdown",
      "source": [
        "**model with an embedded layer that has been pretrained**"
      ],
      "metadata": {
        "id": "a1WNTUOnnx_e"
      }
    },
    {
      "cell_type": "code",
      "source": [
        "inputs = keras.Input(shape=(None,), dtype=\"int64\")\n",
        "embedded = embedding_layer(inputs)\n",
        "x = layers.Bidirectional(layers.LSTM(32))(embedded)\n",
        "x = layers.Dropout(0.5)(x)\n",
        "outputs = layers.Dense(1, activation=\"sigmoid\")(x)\n",
        "model = keras.Model(inputs, outputs)\n",
        "model.compile(optimizer=\"rmsprop\",\n",
        "              loss=\"binary_crossentropy\",\n",
        "              metrics=[\"accuracy\"])\n",
        "model.summary()\n",
        "\n",
        "callbacks = [\n",
        "    keras.callbacks.ModelCheckpoint(\"glove_embeddings_sequence_model.x\",\n",
        "                                    save_best_only=True)\n",
        "]\n",
        "model.fit(int_train_ds, validation_data=int_val_ds, epochs=10, callbacks=callbacks)\n",
        "model = keras.models.load_model(\"glove_embeddings_sequence_model.x\")\n",
        "print(f\"Test acc: {model.evaluate(int_test_ds)[1]:.3f}\")"
      ],
      "metadata": {
        "id": "lom9Mui-EaZ-",
        "colab": {
          "base_uri": "https://localhost:8080/"
        },
        "outputId": "ec59562b-abc5-48f3-da9f-d44dc2b842b1"
      },
      "execution_count": 13,
      "outputs": [
        {
          "output_type": "stream",
          "name": "stdout",
          "text": [
            "Model: \"model_3\"\n",
            "_________________________________________________________________\n",
            " Layer (type)                Output Shape              Param #   \n",
            "=================================================================\n",
            " input_4 (InputLayer)        [(None, None)]            0         \n",
            "                                                                 \n",
            " embedding_3 (Embedding)     (None, None, 100)         2000000   \n",
            "                                                                 \n",
            " bidirectional_3 (Bidirecti  (None, 64)                34048     \n",
            " onal)                                                           \n",
            "                                                                 \n",
            " dropout_3 (Dropout)         (None, 64)                0         \n",
            "                                                                 \n",
            " dense_3 (Dense)             (None, 1)                 65        \n",
            "                                                                 \n",
            "=================================================================\n",
            "Total params: 2034113 (7.76 MB)\n",
            "Trainable params: 34113 (133.25 KB)\n",
            "Non-trainable params: 2000000 (7.63 MB)\n",
            "_________________________________________________________________\n",
            "Epoch 1/10\n",
            "150/150 [==============================] - 52s 287ms/step - loss: 0.6779 - accuracy: 0.5710 - val_loss: 0.6340 - val_accuracy: 0.6424\n",
            "Epoch 2/10\n",
            "150/150 [==============================] - 37s 246ms/step - loss: 0.6132 - accuracy: 0.6669 - val_loss: 0.5621 - val_accuracy: 0.7280\n",
            "Epoch 3/10\n",
            "150/150 [==============================] - 7s 44ms/step - loss: 0.5732 - accuracy: 0.7067 - val_loss: 0.6317 - val_accuracy: 0.6724\n",
            "Epoch 4/10\n",
            "150/150 [==============================] - 41s 273ms/step - loss: 0.5301 - accuracy: 0.7437 - val_loss: 0.4859 - val_accuracy: 0.7696\n",
            "Epoch 5/10\n",
            "150/150 [==============================] - 4s 27ms/step - loss: 0.5159 - accuracy: 0.7481 - val_loss: 0.5142 - val_accuracy: 0.7380\n",
            "Epoch 6/10\n",
            "150/150 [==============================] - 42s 283ms/step - loss: 0.4868 - accuracy: 0.7754 - val_loss: 0.4694 - val_accuracy: 0.7730\n",
            "Epoch 7/10\n",
            "150/150 [==============================] - 53s 356ms/step - loss: 0.4650 - accuracy: 0.7856 - val_loss: 0.4518 - val_accuracy: 0.7878\n",
            "Epoch 8/10\n",
            "150/150 [==============================] - 6s 39ms/step - loss: 0.4494 - accuracy: 0.7962 - val_loss: 0.4757 - val_accuracy: 0.7708\n",
            "Epoch 9/10\n",
            "150/150 [==============================] - 4s 28ms/step - loss: 0.4306 - accuracy: 0.8062 - val_loss: 0.4870 - val_accuracy: 0.7662\n",
            "Epoch 10/10\n",
            "150/150 [==============================] - 6s 37ms/step - loss: 0.4215 - accuracy: 0.8073 - val_loss: 0.5636 - val_accuracy: 0.7328\n",
            "782/782 [==============================] - 12s 13ms/step - loss: 0.4663 - accuracy: 0.7768\n",
            "Test acc: 0.777\n"
          ]
        }
      ]
    }
  ]
}